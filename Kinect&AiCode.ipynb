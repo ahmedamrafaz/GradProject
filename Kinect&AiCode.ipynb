{
 "cells": [
  {
   "cell_type": "code",
   "execution_count": null,
   "metadata": {},
   "outputs": [],
   "source": [
    "import cv2\n",
    "import numpy as np\n",
    "from ultralytics import YOLO\n",
    "from freenect import sync_get_depth, sync_get_video\n",
    "\n",
    "# Load your YOLOv8 model\n",
    "model_path = '/home/AhmedRaspberry/yolov8_project/models/Finalbest.pt'\n",
    "model = YOLO(model_path)\n",
    "\n",
    "def get_video():\n",
    "    \"\"\"Get video frame from Kinect\"\"\"\n",
    "    return sync_get_video()[0]\n",
    "\n",
    "def get_depth():\n",
    "    \"\"\"Get depth frame from Kinect\"\"\"\n",
    "    return sync_get_depth()[0]\n",
    "\n",
    "def process_frame(frame):\n",
    "    \"\"\"Process frame with YOLOv8\"\"\"\n",
    "    # Convert BGR to RGB\n",
    "    frame_rgb = cv2.cvtColor(frame, cv2.COLOR_BGR2RGB)\n",
    "    \n",
    "    # Run inference\n",
    "    results = model(frame_rgb)\n",
    "    \n",
    "    # Visualize results\n",
    "    annotated_frame = results[0].plot()\n",
    "    \n",
    "    return annotated_frame\n",
    "\n",
    "def main():\n",
    "    print(\"Starting Kinect YOLOv8 detection...\")\n",
    "    try:\n",
    "        while True:\n",
    "            # Get video frame\n",
    "            frame = get_video()\n",
    "            \n",
    "            # Process frame\n",
    "            processed_frame = process_frame(frame)\n",
    "            \n",
    "            # Display results\n",
    "            cv2.imshow('YOLOv8 Detection', processed_frame)\n",
    "            \n",
    "            # Exit on 'q' key\n",
    "            if cv2.waitKey(1) & 0xFF == ord('q'):\n",
    "                break\n",
    "                \n",
    "    except KeyboardInterrupt:\n",
    "        print(\"Stopping...\")\n",
    "    finally:\n",
    "        cv2.destroyAllWindows()\n",
    "\n",
    "if _name_ == \"_main_\":\n",
    "    main()"
   ]
  }
 ],
 "metadata": {
  "kaggle": {
   "accelerator": "gpu",
   "dataSources": [
    {
     "datasetId": 857191,
     "sourceId": 1462296,
     "sourceType": "datasetVersion"
    },
    {
     "datasetId": 5738717,
     "sourceId": 9443037,
     "sourceType": "datasetVersion"
    },
    {
     "datasetId": 5738720,
     "sourceId": 9443043,
     "sourceType": "datasetVersion"
    },
    {
     "datasetId": 5740288,
     "sourceId": 9445153,
     "sourceType": "datasetVersion"
    },
    {
     "datasetId": 5742677,
     "sourceId": 9448407,
     "sourceType": "datasetVersion"
    },
    {
     "datasetId": 5864409,
     "sourceId": 9610869,
     "sourceType": "datasetVersion"
    },
    {
     "datasetId": 5868682,
     "sourceId": 9616462,
     "sourceType": "datasetVersion"
    },
    {
     "datasetId": 6938544,
     "sourceId": 11125937,
     "sourceType": "datasetVersion"
    },
    {
     "datasetId": 6938596,
     "sourceId": 11126005,
     "sourceType": "datasetVersion"
    },
    {
     "datasetId": 6938629,
     "sourceId": 11126041,
     "sourceType": "datasetVersion"
    },
    {
     "datasetId": 6941615,
     "sourceId": 11130217,
     "sourceType": "datasetVersion"
    }
   ],
   "dockerImageVersionId": 30919,
   "isGpuEnabled": true,
   "isInternetEnabled": true,
   "language": "python",
   "sourceType": "notebook"
  },
  "kernelspec": {
   "display_name": "Python 3",
   "language": "python",
   "name": "python3"
  },
  "language_info": {
   "codemirror_mode": {
    "name": "ipython",
    "version": 3
   },
   "file_extension": ".py",
   "mimetype": "text/x-python",
   "name": "python",
   "nbconvert_exporter": "python",
   "pygments_lexer": "ipython3",
   "version": "3.10.12"
  }
 },
 "nbformat": 4,
 "nbformat_minor": 4
}
